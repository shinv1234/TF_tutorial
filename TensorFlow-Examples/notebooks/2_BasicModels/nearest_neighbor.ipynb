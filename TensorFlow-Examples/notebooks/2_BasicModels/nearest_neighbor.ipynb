{
 "cells": [
  {
   "cell_type": "code",
   "execution_count": 1,
   "metadata": {
    "collapsed": false
   },
   "outputs": [
    {
     "name": "stdout",
     "output_type": "stream",
     "text": [
      "Successfully downloaded train-images-idx3-ubyte.gz 9912422 bytes.\n",
      "Extracting MNIST_data/train-images-idx3-ubyte.gz\n",
      "Successfully downloaded train-labels-idx1-ubyte.gz 28881 bytes.\n",
      "Extracting MNIST_data/train-labels-idx1-ubyte.gz\n",
      "Successfully downloaded t10k-images-idx3-ubyte.gz 1648877 bytes.\n",
      "Extracting MNIST_data/t10k-images-idx3-ubyte.gz\n",
      "Successfully downloaded t10k-labels-idx1-ubyte.gz 4542 bytes.\n",
      "Extracting MNIST_data/t10k-labels-idx1-ubyte.gz\n"
     ]
    }
   ],
   "source": [
    "import numpy as np\n",
    "import tensorflow as tf\n",
    "\n",
    "# Import MINST data\n",
    "from tensorflow.examples.tutorials.mnist import input_data\n",
    "mnist = input_data.read_data_sets(\"MNIST_data/\", one_hot=True)"
   ]
  },
  {
   "cell_type": "code",
   "execution_count": 2,
   "metadata": {
    "collapsed": true
   },
   "outputs": [],
   "source": [
    "Xtr, Ytr = mnist.train.next_batch(5000) #5000 for training (nn candidates)\n",
    "Xte, Yte = mnist.test.next_batch(200) #200 for testing"
   ]
  },
  {
   "cell_type": "code",
   "execution_count": 11,
   "metadata": {
    "collapsed": false
   },
   "outputs": [
    {
     "data": {
      "text/plain": [
       "((5000, 784), (5000, 10))"
      ]
     },
     "execution_count": 11,
     "metadata": {},
     "output_type": "execute_result"
    }
   ],
   "source": [
    "Xtr.shape, Ytr.shape "
   ]
  },
  {
   "cell_type": "code",
   "execution_count": 19,
   "metadata": {
    "collapsed": false
   },
   "outputs": [
    {
     "data": {
      "text/plain": [
       "((200, 784), (200, 10))"
      ]
     },
     "execution_count": 19,
     "metadata": {},
     "output_type": "execute_result"
    }
   ],
   "source": [
    "Xte.shape, Yte.shape"
   ]
  },
  {
   "cell_type": "code",
   "execution_count": 31,
   "metadata": {
    "collapsed": true
   },
   "outputs": [],
   "source": [
    "xtr = tf.placeholder(\"float\", [None, 784])\n",
    "xte = tf.placeholder(\"float\", [784])"
   ]
  },
  {
   "cell_type": "code",
   "execution_count": 32,
   "metadata": {
    "collapsed": true
   },
   "outputs": [],
   "source": [
    "distance = tf.reduce_sum(tf.abs(tf.add(xtr, tf.negative(xte))), reduction_indices=1) \n",
    "# distance = tf.reduce_sum(|xtr - xte|, 1)\n",
    "\n",
    "# tf.negative(x): -x\n",
    "# tf.add(a, b): a + b\n",
    "# tf.abs(x): |x|\n",
    "\n",
    "# tf.reduce_sum(x): 행렬의 원소의 총 합 계산\n",
    "# 'x' is [[1, 1, 1]\n",
    "#         [1, 1, 1]]\n",
    "#tf.reduce_sum(x) ==> 6\n",
    "#tf.reduce_sum(x, 0) ==> [2, 2, 2]\n",
    "#tf.reduce_sum(x, 1) ==> [3, 3]\n",
    "#tf.reduce_sum(x, 1, keep_dims=True) ==> [[3], [3]]\n",
    "#tf.reduce_sum(x, [0, 1]) ==> 6\n",
    "\n",
    "pred = tf.arg_min(distance, 0)\n",
    "# tf.arg_min: 축에서 가장 작은 값을 반환\n",
    "accuracy = 0.\n",
    "\n",
    "init = tf.global_variables_initializer()\n",
    "# global variables(전역 변수)를 초기와하는 Op(?)를 반환"
   ]
  },
  {
   "cell_type": "code",
   "execution_count": 33,
   "metadata": {
    "collapsed": true
   },
   "outputs": [],
   "source": [
    "# train 데이터와 test 데이터 간 차이의 총 합이 가장 작은 샘플을 골라서 test 데이터의 Y를 예측"
   ]
  },
  {
   "cell_type": "code",
   "execution_count": 34,
   "metadata": {
    "collapsed": false
   },
   "outputs": [
    {
     "name": "stdout",
     "output_type": "stream",
     "text": [
      "Test 0 Prediction: 0 True Class: 0 nn_index: 3076\n",
      "Test 1 Prediction: 1 True Class: 1 nn_index: 461\n",
      "Test 2 Prediction: 3 True Class: 3 nn_index: 4743\n",
      "Test 3 Prediction: 7 True Class: 7 nn_index: 102\n",
      "Test 4 Prediction: 0 True Class: 0 nn_index: 4533\n",
      "Test 5 Prediction: 4 True Class: 4 nn_index: 3861\n",
      "Test 6 Prediction: 8 True Class: 8 nn_index: 157\n",
      "Test 7 Prediction: 3 True Class: 3 nn_index: 1429\n",
      "Test 8 Prediction: 6 True Class: 6 nn_index: 4300\n",
      "Test 9 Prediction: 5 True Class: 5 nn_index: 2111\n",
      "Test 10 Prediction: 0 True Class: 0 nn_index: 1760\n",
      "Test 11 Prediction: 3 True Class: 3 nn_index: 1885\n",
      "Test 12 Prediction: 2 True Class: 2 nn_index: 1960\n",
      "Test 13 Prediction: 3 True Class: 3 nn_index: 3920\n",
      "Test 14 Prediction: 7 True Class: 7 nn_index: 4084\n",
      "Test 15 Prediction: 7 True Class: 7 nn_index: 4268\n",
      "Test 16 Prediction: 9 True Class: 8 nn_index: 1612\n",
      "Test 17 Prediction: 6 True Class: 6 nn_index: 2906\n",
      "Test 18 Prediction: 5 True Class: 5 nn_index: 3385\n",
      "Test 19 Prediction: 5 True Class: 5 nn_index: 1134\n",
      "Test 20 Prediction: 4 True Class: 4 nn_index: 3971\n",
      "Test 21 Prediction: 8 True Class: 8 nn_index: 3756\n",
      "Test 22 Prediction: 1 True Class: 1 nn_index: 4583\n",
      "Test 23 Prediction: 8 True Class: 8 nn_index: 1486\n",
      "Test 24 Prediction: 3 True Class: 3 nn_index: 3783\n",
      "Test 25 Prediction: 4 True Class: 4 nn_index: 2256\n",
      "Test 26 Prediction: 2 True Class: 2 nn_index: 4578\n",
      "Test 27 Prediction: 7 True Class: 7 nn_index: 2755\n",
      "Test 28 Prediction: 5 True Class: 5 nn_index: 2032\n",
      "Test 29 Prediction: 1 True Class: 1 nn_index: 4496\n",
      "Test 30 Prediction: 1 True Class: 1 nn_index: 885\n",
      "Test 31 Prediction: 5 True Class: 5 nn_index: 2623\n",
      "Test 32 Prediction: 3 True Class: 3 nn_index: 922\n",
      "Test 33 Prediction: 4 True Class: 4 nn_index: 3657\n",
      "Test 34 Prediction: 2 True Class: 2 nn_index: 2352\n",
      "Test 35 Prediction: 2 True Class: 2 nn_index: 2352\n",
      "Test 36 Prediction: 9 True Class: 9 nn_index: 1237\n",
      "Test 37 Prediction: 9 True Class: 9 nn_index: 1417\n",
      "Test 38 Prediction: 5 True Class: 5 nn_index: 1808\n",
      "Test 39 Prediction: 5 True Class: 5 nn_index: 2311\n",
      "Test 40 Prediction: 0 True Class: 0 nn_index: 1932\n",
      "Test 41 Prediction: 9 True Class: 9 nn_index: 3090\n",
      "Test 42 Prediction: 6 True Class: 6 nn_index: 776\n",
      "Test 43 Prediction: 3 True Class: 3 nn_index: 2708\n",
      "Test 44 Prediction: 6 True Class: 5 nn_index: 129\n",
      "Test 45 Prediction: 2 True Class: 2 nn_index: 4140\n",
      "Test 46 Prediction: 3 True Class: 3 nn_index: 410\n",
      "Test 47 Prediction: 7 True Class: 7 nn_index: 4956\n",
      "Test 48 Prediction: 7 True Class: 7 nn_index: 3976\n",
      "Test 49 Prediction: 2 True Class: 2 nn_index: 1395\n",
      "Test 50 Prediction: 0 True Class: 0 nn_index: 53\n",
      "Test 51 Prediction: 0 True Class: 0 nn_index: 1691\n",
      "Test 52 Prediction: 3 True Class: 3 nn_index: 2647\n",
      "Test 53 Prediction: 3 True Class: 3 nn_index: 1838\n",
      "Test 54 Prediction: 7 True Class: 7 nn_index: 2224\n",
      "Test 55 Prediction: 6 True Class: 6 nn_index: 2286\n",
      "Test 56 Prediction: 2 True Class: 2 nn_index: 74\n",
      "Test 57 Prediction: 4 True Class: 4 nn_index: 3481\n",
      "Test 58 Prediction: 7 True Class: 7 nn_index: 1261\n",
      "Test 59 Prediction: 0 True Class: 0 nn_index: 2215\n",
      "Test 60 Prediction: 1 True Class: 1 nn_index: 754\n",
      "Test 61 Prediction: 8 True Class: 8 nn_index: 2307\n",
      "Test 62 Prediction: 8 True Class: 8 nn_index: 4524\n",
      "Test 63 Prediction: 4 True Class: 4 nn_index: 965\n",
      "Test 64 Prediction: 6 True Class: 6 nn_index: 363\n",
      "Test 65 Prediction: 4 True Class: 4 nn_index: 1357\n",
      "Test 66 Prediction: 0 True Class: 0 nn_index: 4458\n",
      "Test 67 Prediction: 7 True Class: 7 nn_index: 4198\n",
      "Test 68 Prediction: 2 True Class: 2 nn_index: 4465\n",
      "Test 69 Prediction: 0 True Class: 0 nn_index: 2248\n",
      "Test 70 Prediction: 7 True Class: 7 nn_index: 3507\n",
      "Test 71 Prediction: 0 True Class: 0 nn_index: 4123\n",
      "Test 72 Prediction: 3 True Class: 3 nn_index: 2184\n",
      "Test 73 Prediction: 8 True Class: 8 nn_index: 2319\n",
      "Test 74 Prediction: 9 True Class: 9 nn_index: 3475\n",
      "Test 75 Prediction: 3 True Class: 3 nn_index: 4895\n",
      "Test 76 Prediction: 0 True Class: 0 nn_index: 3378\n",
      "Test 77 Prediction: 1 True Class: 1 nn_index: 2998\n",
      "Test 78 Prediction: 5 True Class: 5 nn_index: 773\n",
      "Test 79 Prediction: 0 True Class: 0 nn_index: 4018\n",
      "Test 80 Prediction: 4 True Class: 4 nn_index: 1634\n",
      "Test 81 Prediction: 3 True Class: 3 nn_index: 3852\n",
      "Test 82 Prediction: 2 True Class: 2 nn_index: 4578\n",
      "Test 83 Prediction: 7 True Class: 7 nn_index: 3739\n",
      "Test 84 Prediction: 5 True Class: 5 nn_index: 4958\n",
      "Test 85 Prediction: 7 True Class: 2 nn_index: 3869\n",
      "Test 86 Prediction: 1 True Class: 1 nn_index: 4382\n",
      "Test 87 Prediction: 0 True Class: 0 nn_index: 1646\n",
      "Test 88 Prediction: 7 True Class: 7 nn_index: 2278\n",
      "Test 89 Prediction: 1 True Class: 1 nn_index: 230\n",
      "Test 90 Prediction: 5 True Class: 5 nn_index: 1426\n",
      "Test 91 Prediction: 3 True Class: 3 nn_index: 2602\n",
      "Test 92 Prediction: 3 True Class: 3 nn_index: 1895\n",
      "Test 93 Prediction: 7 True Class: 7 nn_index: 4896\n",
      "Test 94 Prediction: 1 True Class: 1 nn_index: 854\n",
      "Test 95 Prediction: 2 True Class: 2 nn_index: 939\n",
      "Test 96 Prediction: 6 True Class: 6 nn_index: 4483\n",
      "Test 97 Prediction: 0 True Class: 0 nn_index: 18\n",
      "Test 98 Prediction: 0 True Class: 0 nn_index: 1404\n",
      "Test 99 Prediction: 7 True Class: 7 nn_index: 3739\n",
      "Test 100 Prediction: 4 True Class: 4 nn_index: 3176\n",
      "Test 101 Prediction: 4 True Class: 4 nn_index: 1442\n",
      "Test 102 Prediction: 6 True Class: 6 nn_index: 3479\n",
      "Test 103 Prediction: 0 True Class: 0 nn_index: 2342\n",
      "Test 104 Prediction: 9 True Class: 9 nn_index: 3476\n",
      "Test 105 Prediction: 3 True Class: 3 nn_index: 4797\n",
      "Test 106 Prediction: 7 True Class: 7 nn_index: 4024\n",
      "Test 107 Prediction: 1 True Class: 1 nn_index: 3156\n",
      "Test 108 Prediction: 1 True Class: 1 nn_index: 910\n",
      "Test 109 Prediction: 1 True Class: 1 nn_index: 1669\n",
      "Test 110 Prediction: 1 True Class: 1 nn_index: 3793\n",
      "Test 111 Prediction: 0 True Class: 0 nn_index: 4894\n",
      "Test 112 Prediction: 6 True Class: 6 nn_index: 4297\n",
      "Test 113 Prediction: 4 True Class: 4 nn_index: 483\n",
      "Test 114 Prediction: 8 True Class: 8 nn_index: 672\n",
      "Test 115 Prediction: 6 True Class: 6 nn_index: 574\n",
      "Test 116 Prediction: 1 True Class: 1 nn_index: 3998\n",
      "Test 117 Prediction: 0 True Class: 0 nn_index: 3181\n",
      "Test 118 Prediction: 7 True Class: 8 nn_index: 3504\n",
      "Test 119 Prediction: 2 True Class: 2 nn_index: 2315\n",
      "Test 120 Prediction: 2 True Class: 2 nn_index: 743\n",
      "Test 121 Prediction: 3 True Class: 3 nn_index: 4345\n",
      "Test 122 Prediction: 4 True Class: 4 nn_index: 483\n",
      "Test 123 Prediction: 2 True Class: 2 nn_index: 98\n",
      "Test 124 Prediction: 6 True Class: 6 nn_index: 3910\n",
      "Test 125 Prediction: 0 True Class: 0 nn_index: 4197\n",
      "Test 126 Prediction: 2 True Class: 2 nn_index: 2341\n",
      "Test 127 Prediction: 7 True Class: 7 nn_index: 1110\n",
      "Test 128 Prediction: 4 True Class: 4 nn_index: 758\n",
      "Test 129 Prediction: 8 True Class: 8 nn_index: 3344\n",
      "Test 130 Prediction: 1 True Class: 1 nn_index: 1111\n",
      "Test 131 Prediction: 5 True Class: 5 nn_index: 4270\n",
      "Test 132 Prediction: 9 True Class: 9 nn_index: 4884\n",
      "Test 133 Prediction: 2 True Class: 2 nn_index: 3601\n",
      "Test 134 Prediction: 1 True Class: 1 nn_index: 4177\n",
      "Test 135 Prediction: 3 True Class: 3 nn_index: 3011\n",
      "Test 136 Prediction: 0 True Class: 0 nn_index: 2693\n",
      "Test 137 Prediction: 1 True Class: 1 nn_index: 2042\n",
      "Test 138 Prediction: 1 True Class: 1 nn_index: 2529\n",
      "Test 139 Prediction: 4 True Class: 4 nn_index: 4998\n",
      "Test 140 Prediction: 8 True Class: 8 nn_index: 1620\n",
      "Test 141 Prediction: 2 True Class: 2 nn_index: 452\n",
      "Test 142 Prediction: 3 True Class: 3 nn_index: 103\n",
      "Test 143 Prediction: 1 True Class: 1 nn_index: 4692\n",
      "Test 144 Prediction: 4 True Class: 4 nn_index: 2051\n",
      "Test 145 Prediction: 2 True Class: 2 nn_index: 2200\n",
      "Test 146 Prediction: 9 True Class: 9 nn_index: 1406\n",
      "Test 147 Prediction: 6 True Class: 6 nn_index: 947\n",
      "Test 148 Prediction: 0 True Class: 0 nn_index: 3565\n",
      "Test 149 Prediction: 9 True Class: 9 nn_index: 2259\n",
      "Test 150 Prediction: 4 True Class: 4 nn_index: 3887\n",
      "Test 151 Prediction: 7 True Class: 7 nn_index: 921\n",
      "Test 152 Prediction: 3 True Class: 3 nn_index: 4952\n",
      "Test 153 Prediction: 2 True Class: 2 nn_index: 3508\n",
      "Test 154 Prediction: 8 True Class: 8 nn_index: 335\n",
      "Test 155 Prediction: 2 True Class: 2 nn_index: 1946\n",
      "Test 156 Prediction: 9 True Class: 4 nn_index: 3482\n",
      "Test 157 Prediction: 8 True Class: 8 nn_index: 800\n",
      "Test 158 Prediction: 9 True Class: 9 nn_index: 449\n",
      "Test 159 Prediction: 2 True Class: 2 nn_index: 1680\n",
      "Test 160 Prediction: 7 True Class: 7 nn_index: 1864\n",
      "Test 161 Prediction: 9 True Class: 9 nn_index: 192\n",
      "Test 162 Prediction: 2 True Class: 2 nn_index: 33\n",
      "Test 163 Prediction: 9 True Class: 9 nn_index: 4142\n",
      "Test 164 Prediction: 4 True Class: 4 nn_index: 2299\n",
      "Test 165 Prediction: 3 True Class: 3 nn_index: 1345\n",
      "Test 166 Prediction: 1 True Class: 1 nn_index: 2055\n",
      "Test 167 Prediction: 7 True Class: 7 nn_index: 3735\n",
      "Test 168 Prediction: 6 True Class: 6 nn_index: 609\n",
      "Test 169 Prediction: 8 True Class: 8 nn_index: 3932\n",
      "Test 170 Prediction: 0 True Class: 0 nn_index: 3366\n",
      "Test 171 Prediction: 0 True Class: 0 nn_index: 4324\n",
      "Test 172 Prediction: 7 True Class: 2 nn_index: 2962\n",
      "Test 173 Prediction: 3 True Class: 8 nn_index: 3221\n",
      "Test 174 Prediction: 0 True Class: 0 nn_index: 1445\n",
      "Test 175 Prediction: 5 True Class: 3 nn_index: 1276\n",
      "Test 176 Prediction: 7 True Class: 7 nn_index: 3452\n",
      "Test 177 Prediction: 0 True Class: 0 nn_index: 1026\n",
      "Test 178 Prediction: 5 True Class: 5 nn_index: 3959\n",
      "Test 179 Prediction: 4 True Class: 4 nn_index: 1798\n",
      "Test 180 Prediction: 6 True Class: 6 nn_index: 1249\n",
      "Test 181 Prediction: 3 True Class: 3 nn_index: 3783\n",
      "Test 182 Prediction: 0 True Class: 5 nn_index: 996\n",
      "Test 183 Prediction: 9 True Class: 9 nn_index: 385\n",
      "Test 184 Prediction: 5 True Class: 5 nn_index: 2685\n",
      "Test 185 Prediction: 4 True Class: 4 nn_index: 330\n",
      "Test 186 Prediction: 2 True Class: 2 nn_index: 2087\n",
      "Test 187 Prediction: 1 True Class: 1 nn_index: 4384\n",
      "Test 188 Prediction: 8 True Class: 8 nn_index: 3043\n",
      "Test 189 Prediction: 5 True Class: 5 nn_index: 2759\n",
      "Test 190 Prediction: 6 True Class: 6 nn_index: 2645\n",
      "Test 191 Prediction: 7 True Class: 7 nn_index: 3615\n",
      "Test 192 Prediction: 5 True Class: 5 nn_index: 332\n",
      "Test 193 Prediction: 3 True Class: 3 nn_index: 3293\n",
      "Test 194 Prediction: 1 True Class: 1 nn_index: 1847\n",
      "Test 195 Prediction: 1 True Class: 1 nn_index: 2496\n",
      "Test 196 Prediction: 2 True Class: 2 nn_index: 2226\n",
      "Test 197 Prediction: 0 True Class: 0 nn_index: 3368\n",
      "Test 198 Prediction: 4 True Class: 4 nn_index: 3058\n",
      "Test 199 Prediction: 8 True Class: 8 nn_index: 1617\n",
      "Done!\n",
      "Accuracy: 0.9550000000000007\n"
     ]
    }
   ],
   "source": [
    "# Launch the graph\n",
    "with tf.Session() as sess:\n",
    "    sess.run(init)\n",
    "\n",
    "    # loop over test data\n",
    "    for i in range(len(Xte)):\n",
    "        # Get nearest neighbor\n",
    "        nn_index = sess.run(pred, feed_dict={xtr: Xtr, xte: Xte[i, :]})\n",
    "        # Get nearest neighbor class label and compare it to its true label\n",
    "        print(\"Test\", i, \"Prediction:\", np.argmax(Ytr[nn_index]), \\\n",
    "            \"True Class:\", np.argmax(Yte[i]), \\\n",
    "             \"nn_index:\", nn_index)\n",
    "        # np.argmax: 그 축에서 가장 큰 값을 반환\n",
    "        # Calculate accuracy\n",
    "        if np.argmax(Ytr[nn_index]) == np.argmax(Yte[i]):\n",
    "            accuracy += 1./len(Xte)\n",
    "    print(\"Done!\")\n",
    "    print(\"Accuracy:\", accuracy)"
   ]
  },
  {
   "cell_type": "code",
   "execution_count": null,
   "metadata": {
    "collapsed": true
   },
   "outputs": [],
   "source": []
  }
 ],
 "metadata": {
  "kernelspec": {
   "display_name": "Python 3",
   "language": "python",
   "name": "python3"
  },
  "language_info": {
   "codemirror_mode": {
    "name": "ipython",
    "version": 3
   },
   "file_extension": ".py",
   "mimetype": "text/x-python",
   "name": "python",
   "nbconvert_exporter": "python",
   "pygments_lexer": "ipython3",
   "version": "3.6.0"
  }
 },
 "nbformat": 4,
 "nbformat_minor": 2
}
