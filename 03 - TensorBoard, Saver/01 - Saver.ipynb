{
 "cells": [
  {
   "cell_type": "code",
   "execution_count": 1,
   "metadata": {
    "collapsed": true
   },
   "outputs": [],
   "source": [
    "import tensorflow as tf\n",
    "import numpy as np"
   ]
  },
  {
   "cell_type": "code",
   "execution_count": 2,
   "metadata": {
    "collapsed": true
   },
   "outputs": [],
   "source": [
    "data = np.loadtxt('./data.csv', delimiter=',',\n",
    "                  unpack=True, dtype='float32')"
   ]
  },
  {
   "cell_type": "code",
   "execution_count": 3,
   "metadata": {
    "collapsed": false
   },
   "outputs": [
    {
     "name": "stdout",
     "output_type": "stream",
     "text": [
      "x_data : [[ 0.  0.]\n",
      " [ 1.  0.]\n",
      " [ 1.  1.]\n",
      " [ 0.  0.]\n",
      " [ 0.  0.]\n",
      " [ 0.  1.]]\n",
      "y_data : [[ 1.  0.  0.]\n",
      " [ 0.  1.  0.]\n",
      " [ 0.  0.  1.]\n",
      " [ 1.  0.  0.]\n",
      " [ 1.  0.  0.]\n",
      " [ 0.  0.  1.]]\n"
     ]
    }
   ],
   "source": [
    "x_data = np.transpose(data[0:2])\n",
    "y_data = np.transpose(data[2:])\n",
    "print('x_data :', x_data)\n",
    "print('y_data :', y_data)"
   ]
  },
  {
   "cell_type": "code",
   "execution_count": 4,
   "metadata": {
    "collapsed": false
   },
   "outputs": [
    {
     "name": "stdout",
     "output_type": "stream",
     "text": [
      "<tf.Variable 'global_step:0' shape=() dtype=int32_ref>\n"
     ]
    }
   ],
   "source": [
    "# 학습에 직접적으로 사용하지 않고 학습 횟수에 따라 단순히 증가시킬 변수를 만듭니다.\n",
    "global_step = tf.Variable(0, trainable=False, name='global_step')\n",
    "print(global_step)"
   ]
  },
  {
   "cell_type": "code",
   "execution_count": 5,
   "metadata": {
    "collapsed": true
   },
   "outputs": [],
   "source": [
    "X = tf.placeholder(tf.float32)\n",
    "Y = tf.placeholder(tf.float32)\n",
    "\n",
    "W1 = tf.Variable(tf.random_uniform([2, 10], -1., 1.))\n",
    "L1 = tf.nn.relu(tf.matmul(X, W1))\n",
    "\n",
    "W2 = tf.Variable(tf.random_uniform([10, 20], -1., 1.))\n",
    "L2 = tf.nn.relu(tf.matmul(L1, W2))\n",
    "\n",
    "W3 = tf.Variable(tf.random_uniform([20, 3], -1., 1.))\n",
    "model = tf.matmul(L2, W3)"
   ]
  },
  {
   "cell_type": "code",
   "execution_count": 6,
   "metadata": {
    "collapsed": true
   },
   "outputs": [],
   "source": [
    "cost = tf.reduce_mean(\n",
    "    tf.nn.softmax_cross_entropy_with_logits(labels=Y, logits=model))\n",
    "\n",
    "optimizer = tf.train.AdamOptimizer(learning_rate=0.01)\n",
    "# global_step로 넘겨준 변수를, 학습용 변수들을 최적화 할 때 마다 학습 횟수를 하나씩 증가시킵니다.\n",
    "train_op = optimizer.minimize(cost, global_step=global_step)"
   ]
  },
  {
   "cell_type": "code",
   "execution_count": 7,
   "metadata": {
    "collapsed": false
   },
   "outputs": [],
   "source": [
    "sess = tf.Session()\n",
    "# global_variables 함수를 통해 앞서 정의하였던 변수들을 저장하거나 불러올 변수들로 설정합니다.\n",
    "saver = tf.train.Saver(tf.global_variables())"
   ]
  },
  {
   "cell_type": "code",
   "execution_count": 8,
   "metadata": {
    "collapsed": true
   },
   "outputs": [],
   "source": [
    "ckpt = tf.train.get_checkpoint_state('./model')\n",
    "if ckpt and tf.train.checkpoint_exists(ckpt.model_checkpoint_path):\n",
    "    saver.restore(sess, ckpt.model_checkpoint_path)\n",
    "else:\n",
    "    sess.run(tf.global_variables_initializer())"
   ]
  },
  {
   "cell_type": "code",
   "execution_count": 9,
   "metadata": {
    "collapsed": false
   },
   "outputs": [
    {
     "name": "stdout",
     "output_type": "stream",
     "text": [
      "Step: 1,  Cost: 1.062\n",
      "Step: 2,  Cost: 1.020\n",
      "Step: 3,  Cost: 0.984\n",
      "Step: 4,  Cost: 0.952\n",
      "Step: 5,  Cost: 0.921\n",
      "Step: 6,  Cost: 0.893\n",
      "Step: 7,  Cost: 0.867\n",
      "Step: 8,  Cost: 0.842\n",
      "Step: 9,  Cost: 0.820\n",
      "Step: 10,  Cost: 0.799\n",
      "Step: 11,  Cost: 0.780\n",
      "Step: 12,  Cost: 0.762\n",
      "Step: 13,  Cost: 0.746\n",
      "Step: 14,  Cost: 0.731\n",
      "Step: 15,  Cost: 0.716\n",
      "Step: 16,  Cost: 0.702\n",
      "Step: 17,  Cost: 0.689\n",
      "Step: 18,  Cost: 0.676\n",
      "Step: 19,  Cost: 0.665\n",
      "Step: 20,  Cost: 0.653\n",
      "Step: 21,  Cost: 0.643\n",
      "Step: 22,  Cost: 0.633\n",
      "Step: 23,  Cost: 0.624\n",
      "Step: 24,  Cost: 0.616\n",
      "Step: 25,  Cost: 0.608\n",
      "Step: 26,  Cost: 0.601\n",
      "Step: 27,  Cost: 0.596\n",
      "Step: 28,  Cost: 0.591\n",
      "Step: 29,  Cost: 0.586\n",
      "Step: 30,  Cost: 0.582\n",
      "Step: 31,  Cost: 0.579\n",
      "Step: 32,  Cost: 0.575\n",
      "Step: 33,  Cost: 0.572\n",
      "Step: 34,  Cost: 0.570\n",
      "Step: 35,  Cost: 0.567\n",
      "Step: 36,  Cost: 0.565\n",
      "Step: 37,  Cost: 0.564\n",
      "Step: 38,  Cost: 0.562\n",
      "Step: 39,  Cost: 0.561\n",
      "Step: 40,  Cost: 0.559\n",
      "Step: 41,  Cost: 0.558\n",
      "Step: 42,  Cost: 0.557\n",
      "Step: 43,  Cost: 0.557\n",
      "Step: 44,  Cost: 0.556\n",
      "Step: 45,  Cost: 0.555\n",
      "Step: 46,  Cost: 0.555\n",
      "Step: 47,  Cost: 0.554\n",
      "Step: 48,  Cost: 0.554\n",
      "Step: 49,  Cost: 0.553\n",
      "Step: 50,  Cost: 0.553\n",
      "Step: 51,  Cost: 0.553\n",
      "Step: 52,  Cost: 0.552\n",
      "Step: 53,  Cost: 0.552\n",
      "Step: 54,  Cost: 0.552\n",
      "Step: 55,  Cost: 0.552\n",
      "Step: 56,  Cost: 0.552\n",
      "Step: 57,  Cost: 0.552\n",
      "Step: 58,  Cost: 0.551\n",
      "Step: 59,  Cost: 0.551\n",
      "Step: 60,  Cost: 0.551\n",
      "Step: 61,  Cost: 0.551\n",
      "Step: 62,  Cost: 0.551\n",
      "Step: 63,  Cost: 0.551\n",
      "Step: 64,  Cost: 0.551\n",
      "Step: 65,  Cost: 0.551\n",
      "Step: 66,  Cost: 0.551\n",
      "Step: 67,  Cost: 0.551\n",
      "Step: 68,  Cost: 0.551\n",
      "Step: 69,  Cost: 0.551\n",
      "Step: 70,  Cost: 0.550\n",
      "Step: 71,  Cost: 0.550\n",
      "Step: 72,  Cost: 0.550\n",
      "Step: 73,  Cost: 0.550\n",
      "Step: 74,  Cost: 0.550\n",
      "Step: 75,  Cost: 0.550\n",
      "Step: 76,  Cost: 0.550\n",
      "Step: 77,  Cost: 0.550\n",
      "Step: 78,  Cost: 0.550\n",
      "Step: 79,  Cost: 0.550\n",
      "Step: 80,  Cost: 0.550\n",
      "Step: 81,  Cost: 0.550\n",
      "Step: 82,  Cost: 0.550\n",
      "Step: 83,  Cost: 0.550\n",
      "Step: 84,  Cost: 0.550\n",
      "Step: 85,  Cost: 0.550\n",
      "Step: 86,  Cost: 0.550\n",
      "Step: 87,  Cost: 0.550\n",
      "Step: 88,  Cost: 0.550\n",
      "Step: 89,  Cost: 0.550\n",
      "Step: 90,  Cost: 0.550\n",
      "Step: 91,  Cost: 0.550\n",
      "Step: 92,  Cost: 0.550\n",
      "Step: 93,  Cost: 0.550\n",
      "Step: 94,  Cost: 0.550\n",
      "Step: 95,  Cost: 0.550\n",
      "Step: 96,  Cost: 0.550\n",
      "Step: 97,  Cost: 0.550\n",
      "Step: 98,  Cost: 0.550\n",
      "Step: 99,  Cost: 0.550\n",
      "Step: 100,  Cost: 0.550\n"
     ]
    }
   ],
   "source": [
    "for step in range(100):\n",
    "    sess.run(train_op, feed_dict={X: x_data, Y: y_data})\n",
    "    \n",
    "    print('Step: %d, ' % sess.run(global_step),\n",
    "          'Cost: %.3f' % sess.run(cost, feed_dict={X: x_data, Y: y_data}))"
   ]
  },
  {
   "cell_type": "code",
   "execution_count": 10,
   "metadata": {
    "collapsed": false
   },
   "outputs": [
    {
     "data": {
      "text/plain": [
       "'./model/dnn.ckpt-100'"
      ]
     },
     "execution_count": 10,
     "metadata": {},
     "output_type": "execute_result"
    }
   ],
   "source": [
    "saver.save(sess, './model/dnn.ckpt', global_step=global_step)"
   ]
  },
  {
   "cell_type": "code",
   "execution_count": 11,
   "metadata": {
    "collapsed": false
   },
   "outputs": [
    {
     "name": "stdout",
     "output_type": "stream",
     "text": [
      "예측값: [0 1 2 0 0 2]\n",
      "실제값: [0 1 2 0 0 2]\n"
     ]
    }
   ],
   "source": [
    "#########\n",
    "# 결과 확인\n",
    "# 0: 기타 1: 포유류, 2: 조류\n",
    "######\n",
    "prediction = tf.argmax(model, 1)\n",
    "target = tf.argmax(Y, 1)\n",
    "print('예측값:', sess.run(prediction, feed_dict={X: x_data}))\n",
    "print('실제값:', sess.run(target, feed_dict={Y: y_data}))"
   ]
  },
  {
   "cell_type": "code",
   "execution_count": 12,
   "metadata": {
    "collapsed": false
   },
   "outputs": [
    {
     "name": "stdout",
     "output_type": "stream",
     "text": [
      "정확도: 100.00\n"
     ]
    }
   ],
   "source": [
    "check_prediction = tf.equal(prediction, target)\n",
    "accuracy = tf.reduce_mean(tf.cast(check_prediction, tf.float32))\n",
    "print('정확도: %.2f' % sess.run(accuracy * 100, feed_dict={X: x_data, Y: y_data}))"
   ]
  },
  {
   "cell_type": "code",
   "execution_count": null,
   "metadata": {
    "collapsed": true
   },
   "outputs": [],
   "source": []
  },
  {
   "cell_type": "code",
   "execution_count": null,
   "metadata": {
    "collapsed": true
   },
   "outputs": [],
   "source": []
  },
  {
   "cell_type": "code",
   "execution_count": null,
   "metadata": {
    "collapsed": true
   },
   "outputs": [],
   "source": []
  },
  {
   "cell_type": "code",
   "execution_count": null,
   "metadata": {
    "collapsed": true
   },
   "outputs": [],
   "source": []
  },
  {
   "cell_type": "code",
   "execution_count": null,
   "metadata": {
    "collapsed": true
   },
   "outputs": [],
   "source": []
  },
  {
   "cell_type": "code",
   "execution_count": null,
   "metadata": {
    "collapsed": true
   },
   "outputs": [],
   "source": []
  },
  {
   "cell_type": "code",
   "execution_count": null,
   "metadata": {
    "collapsed": true
   },
   "outputs": [],
   "source": []
  },
  {
   "cell_type": "code",
   "execution_count": null,
   "metadata": {
    "collapsed": true
   },
   "outputs": [],
   "source": []
  }
 ],
 "metadata": {
  "kernelspec": {
   "display_name": "Python 3",
   "language": "python",
   "name": "python3"
  },
  "language_info": {
   "codemirror_mode": {
    "name": "ipython",
    "version": 3
   },
   "file_extension": ".py",
   "mimetype": "text/x-python",
   "name": "python",
   "nbconvert_exporter": "python",
   "pygments_lexer": "ipython3",
   "version": "3.6.0"
  }
 },
 "nbformat": 4,
 "nbformat_minor": 2
}
